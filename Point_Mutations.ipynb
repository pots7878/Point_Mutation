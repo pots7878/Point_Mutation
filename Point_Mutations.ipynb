{
 "cells": [
  {
   "cell_type": "code",
   "execution_count": 2,
   "metadata": {},
   "outputs": [],
   "source": [
    "import numpy as np \n",
    "from scipy.linalg import expm"
   ]
  },
  {
   "cell_type": "code",
   "execution_count": 5,
   "metadata": {},
   "outputs": [],
   "source": [
    "def setSimpleRateMatrix(mu, dim):\n",
    "    a = np.empty([dim, dim])\n",
    "    a.fill(mu)\n",
    "    np.fill_diagonal(a, 1.0-(dim-1)*mu)\n",
    "    return a "
   ]
  },
  {
   "cell_type": "code",
   "execution_count": 7,
   "metadata": {},
   "outputs": [
    {
     "name": "stdout",
     "output_type": "stream",
     "text": [
      "[[0.97 0.01 0.01 0.01]\n",
      " [0.01 0.97 0.01 0.01]\n",
      " [0.01 0.01 0.97 0.01]\n",
      " [0.01 0.01 0.01 0.97]]\n"
     ]
    }
   ],
   "source": [
    "mu = 0.01\n",
    "b = setSimpleRateMatrix(mu,4)\n",
    "print(b)"
   ]
  },
  {
   "cell_type": "code",
   "execution_count": null,
   "metadata": {},
   "outputs": [],
   "source": []
  }
 ],
 "metadata": {
  "kernelspec": {
   "display_name": "Python 3",
   "language": "python",
   "name": "python3"
  },
  "language_info": {
   "codemirror_mode": {
    "name": "ipython",
    "version": 3
   },
   "file_extension": ".py",
   "mimetype": "text/x-python",
   "name": "python",
   "nbconvert_exporter": "python",
   "pygments_lexer": "ipython3",
   "version": "3.7.0"
  }
 },
 "nbformat": 4,
 "nbformat_minor": 2
}
