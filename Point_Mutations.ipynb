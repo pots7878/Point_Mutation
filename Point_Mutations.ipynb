{
 "cells": [
  {
   "cell_type": "code",
   "execution_count": 2,
   "metadata": {},
   "outputs": [],
   "source": [
    "import numpy as np \n",
    "from scipy.linalg import expm"
   ]
  },
  {
   "cell_type": "code",
   "execution_count": 5,
   "metadata": {},
   "outputs": [],
   "source": [
    "def setSimpleRateMatrix(mu, dim):\n",
    "    #Initialize an empty matrix with dimensions given by user \n",
    "    a = np.empty([dim, dim])\n",
    "    #fill matrix with value of mu\n",
    "    a.fill(mu)\n",
    "    #rate of UU and YY\n",
    "    np.fill_diagonal(a, 1.0-(dim-1)*mu)\n",
    "    #return rate matrix \n",
    "    return a "
   ]
  },
  {
   "cell_type": "code",
   "execution_count": 22,
   "metadata": {},
   "outputs": [],
   "source": [
    "def prob(t, R):\n",
    "    #Set up identity matrix. Identity matrix are always square\n",
    "    I = np.identity(R.shape[0]) #slice into the first dimension of R\n",
    "    #display I\n",
    "    print(\"Identity matrix\\n\",I,\"\\n\")    \n",
    "    #calculate the probability\n",
    "    Q = (R - I) * t\n",
    "    #call simpy func\n",
    "    a = expm(Q)\n",
    "    #return probability matrix \n",
    "    return a  "
   ]
  },
  {
   "cell_type": "code",
   "execution_count": 24,
   "metadata": {},
   "outputs": [
    {
     "name": "stdout",
     "output_type": "stream",
     "text": [
      "Rate Matrix\n",
      " [[0.99 0.01]\n",
      " [0.01 0.99]] \n",
      "\n",
      "Identity matrix\n",
      " [[1. 0.]\n",
      " [0. 1.]] \n",
      "\n",
      "prob(t)\n",
      " [[0.5 0.5]\n",
      " [0.5 0.5]]\n"
     ]
    }
   ],
   "source": [
    "#initialize mu and time\n",
    "mu = 0.01\n",
    "t = 10000\n",
    "\n",
    "#call setSimpleRateMatrix to create rate matrix\n",
    "b = setSimpleRateMatrix(mu,2)\n",
    "print(\"Rate Matrix\\n\",b,\"\\n\")\n",
    "\n",
    "#call prob to calculate poisson probability and matrix\n",
    "p = prob(t, b)\n",
    "print(\"prob(t)\\n\",p)"
   ]
  }
 ],
 "metadata": {
  "kernelspec": {
   "display_name": "Python 3",
   "language": "python",
   "name": "python3"
  },
  "language_info": {
   "codemirror_mode": {
    "name": "ipython",
    "version": 3
   },
   "file_extension": ".py",
   "mimetype": "text/x-python",
   "name": "python",
   "nbconvert_exporter": "python",
   "pygments_lexer": "ipython3",
   "version": "3.7.0"
  }
 },
 "nbformat": 4,
 "nbformat_minor": 2
}
